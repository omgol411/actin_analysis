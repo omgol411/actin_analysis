{
  "nbformat": 4,
  "nbformat_minor": 0,
  "metadata": {
    "colab": {
      "provenance": [],
      "collapsed_sections": [
        "LwejJD9HPmC8",
        "WbSj3TqCCxqj",
        "0bGWv7ufKiPK",
        "XY-GxOjQK6Q2",
        "vKjAHO56LJGb",
        "gad27ORzLUTD",
        "OBUT2T7gMJF9",
        "G6N2z8w8Mauw",
        "cAycC-LbNAOO",
        "qKikM04Jq_De",
        "CFsgp_teNeAb",
        "oSyzmP7oOKWv",
        "VP5B5iLKPZ57"
      ],
      "history_visible": true,
      "mount_file_id": "17WNlyURkkA2wKE5OBfXgGccz7WrUEnJW",
      "authorship_tag": "ABX9TyPXbjwoIbFiOsnMS4F5fxaQ",
      "include_colab_link": true
    },
    "kernelspec": {
      "name": "python3",
      "display_name": "Python 3"
    },
    "language_info": {
      "name": "python"
    }
  },
  "cells": [
    {
      "cell_type": "markdown",
      "metadata": {
        "id": "view-in-github",
        "colab_type": "text"
      },
      "source": [
        "<a href=\"https://colab.research.google.com/github/omkargolatkar/actin_analysis/blob/main/Actin_dataset_generation.ipynb\" target=\"_parent\"><img src=\"https://colab.research.google.com/assets/colab-badge.svg\" alt=\"Open In Colab\"/></a>"
      ]
    },
    {
      "cell_type": "markdown",
      "source": [
        "# Actin database generation\n",
        "\n",
        "The following notebook is used to create a **database of all actin entities** from the pdb and all actin entities which are part of F-actin in the structure"
      ],
      "metadata": {
        "id": "LwejJD9HPmC8"
      }
    },
    {
      "cell_type": "markdown",
      "source": [
        "## Install and import required modules\n",
        "modules:\n",
        "1. python-grpahql-client\n",
        "2. rcsbsearchapi"
      ],
      "metadata": {
        "id": "WbSj3TqCCxqj"
      }
    },
    {
      "cell_type": "code",
      "execution_count": null,
      "metadata": {
        "colab": {
          "base_uri": "https://localhost:8080/"
        },
        "id": "jx6vxoWYCreU",
        "outputId": "287806eb-b51b-40e4-9cfd-5ca8b6320539"
      },
      "outputs": [
        {
          "output_type": "stream",
          "name": "stdout",
          "text": [
            "Requirement already satisfied: python-graphql-client in /usr/local/lib/python3.10/dist-packages (0.4.3)\n",
            "Requirement already satisfied: aiohttp~=3.0 in /usr/local/lib/python3.10/dist-packages (from python-graphql-client) (3.9.1)\n",
            "Requirement already satisfied: requests~=2.0 in /usr/local/lib/python3.10/dist-packages (from python-graphql-client) (2.31.0)\n",
            "Requirement already satisfied: websockets>=5.0 in /usr/local/lib/python3.10/dist-packages (from python-graphql-client) (12.0)\n",
            "Requirement already satisfied: attrs>=17.3.0 in /usr/local/lib/python3.10/dist-packages (from aiohttp~=3.0->python-graphql-client) (23.1.0)\n",
            "Requirement already satisfied: multidict<7.0,>=4.5 in /usr/local/lib/python3.10/dist-packages (from aiohttp~=3.0->python-graphql-client) (6.0.4)\n",
            "Requirement already satisfied: yarl<2.0,>=1.0 in /usr/local/lib/python3.10/dist-packages (from aiohttp~=3.0->python-graphql-client) (1.9.4)\n",
            "Requirement already satisfied: frozenlist>=1.1.1 in /usr/local/lib/python3.10/dist-packages (from aiohttp~=3.0->python-graphql-client) (1.4.1)\n",
            "Requirement already satisfied: aiosignal>=1.1.2 in /usr/local/lib/python3.10/dist-packages (from aiohttp~=3.0->python-graphql-client) (1.3.1)\n",
            "Requirement already satisfied: async-timeout<5.0,>=4.0 in /usr/local/lib/python3.10/dist-packages (from aiohttp~=3.0->python-graphql-client) (4.0.3)\n",
            "Requirement already satisfied: charset-normalizer<4,>=2 in /usr/local/lib/python3.10/dist-packages (from requests~=2.0->python-graphql-client) (3.3.2)\n",
            "Requirement already satisfied: idna<4,>=2.5 in /usr/local/lib/python3.10/dist-packages (from requests~=2.0->python-graphql-client) (3.6)\n",
            "Requirement already satisfied: urllib3<3,>=1.21.1 in /usr/local/lib/python3.10/dist-packages (from requests~=2.0->python-graphql-client) (2.0.7)\n",
            "Requirement already satisfied: certifi>=2017.4.17 in /usr/local/lib/python3.10/dist-packages (from requests~=2.0->python-graphql-client) (2023.11.17)\n",
            "Requirement already satisfied: rcsbsearchapi in /usr/local/lib/python3.10/dist-packages (1.4.2)\n",
            "Requirement already satisfied: requests>=2.0.0 in /usr/local/lib/python3.10/dist-packages (from rcsbsearchapi) (2.31.0)\n",
            "Requirement already satisfied: tqdm in /usr/local/lib/python3.10/dist-packages (from rcsbsearchapi) (4.66.1)\n",
            "Requirement already satisfied: charset-normalizer<4,>=2 in /usr/local/lib/python3.10/dist-packages (from requests>=2.0.0->rcsbsearchapi) (3.3.2)\n",
            "Requirement already satisfied: idna<4,>=2.5 in /usr/local/lib/python3.10/dist-packages (from requests>=2.0.0->rcsbsearchapi) (3.6)\n",
            "Requirement already satisfied: urllib3<3,>=1.21.1 in /usr/local/lib/python3.10/dist-packages (from requests>=2.0.0->rcsbsearchapi) (2.0.7)\n",
            "Requirement already satisfied: certifi>=2017.4.17 in /usr/local/lib/python3.10/dist-packages (from requests>=2.0.0->rcsbsearchapi) (2023.11.17)\n"
          ]
        }
      ],
      "source": [
        "!pip install python-graphql-client\n",
        "!pip install rcsbsearchapi"
      ]
    },
    {
      "cell_type": "code",
      "source": [
        "from rcsbsearchapi.search import TextQuery, AttributeQuery\n",
        "from rcsbsearchapi import rcsb_attributes as attrs\n",
        "from rcsbsearchapi.search import SequenceQuery\n",
        "from python_graphql_client import GraphqlClient\n",
        "import json\n",
        "import requests\n",
        "import os\n",
        "from collections import Counter\n",
        "from pprint import pprint\n",
        "import pandas as pd\n",
        "import numpy as np\n",
        "import matplotlib.pyplot as plt"
      ],
      "metadata": {
        "id": "B_KqQsCbDvVu"
      },
      "execution_count": null,
      "outputs": []
    },
    {
      "cell_type": "markdown",
      "source": [
        "## Search API to find actin containing structures"
      ],
      "metadata": {
        "id": "LJOH_ZSsFk7U"
      }
    },
    {
      "cell_type": "markdown",
      "source": [
        "### set 1\n",
        "Find pdb entries which have an entity with 54% sequence similarity to actin\n",
        "\n",
        "Sequence used: **Human cytoplasmic Actin - P60709**\n",
        "\n",
        "\n"
      ],
      "metadata": {
        "id": "0bGWv7ufKiPK"
      }
    },
    {
      "cell_type": "code",
      "source": [
        "seq_id_cutoff = [0.54] # sequence identity cutoff\n",
        "#query variables\n",
        "q_seq = SequenceQuery(\"MDDDIAALVVDNGSGMCKAGFAGDDAPRAVFPSIVGRPRHQGVMVGMGQKDSYVGDEAQS\"\n",
        "                  +\"KRGILTLKYPIEHGIVTNWDDMEKIWHHTFYNELRVAPEEHPVLLTEAPLNPKANREKMT\"\n",
        "                  +\"QIMFETFNTPAMYVAIQAVLSLYASGRTTGIVMDSGDGVTHTVPIYEGYALPHAILRLDL\"\n",
        "                  +\"AGRDLTDYLMKILTERGYSFTTTAEREIVRDIKEKLCYVALDFEQEMATAASSSSLEKSY\"\n",
        "                  +\"ELPDGQVITIGNERFRCPEALFQPSFLGMESCGIHETTFNSIMKCDVDIRKDLYANTVLS\"\n",
        "                  +\"GGTTMYPGIADRMQKEITALAPSTMKIKIIAPPERKYSVWIGGSILASLSTFQQMWISKQ\"\n",
        "                  +\"EYDESGPSIVHRKCF\",evalue_cutoff = 0.1,identity_cutoff = seq_id_cutoff[0])\n",
        "\n",
        "actin_PDB_ids_NA = []\n",
        "\n",
        "for pdb_id in q_seq('entry'):\n",
        "   actin_PDB_ids_NA.append(pdb_id)\n",
        "\n",
        "print(\"There are %s actin structures in the PDB\"%(len(actin_PDB_ids_NA)),\":\",actin_PDB_ids_NA[0:5],\"....\")"
      ],
      "metadata": {
        "colab": {
          "base_uri": "https://localhost:8080/"
        },
        "id": "_G7IFVG1FlGc",
        "outputId": "23e98bde-a2d3-4dcf-de97-f8187f2ef8c9"
      },
      "execution_count": null,
      "outputs": [
        {
          "output_type": "stream",
          "name": "stdout",
          "text": [
            "There are 461 actin structures in the PDB : ['2OAN', '3U4L', '6ANU', '6F1T', '6F38'] ....\n"
          ]
        }
      ]
    },
    {
      "cell_type": "markdown",
      "source": [
        "### set 2\n",
        "Find pdb entries which have an entity with 54% sequence similarity and and an assembly with \"helical\" symmetry\n",
        "\n",
        "Sequence used: **Human cytoplasmic Actin - P60709**\n",
        "\n",
        "Symmetry symbol: **H**"
      ],
      "metadata": {
        "id": "XY-GxOjQK6Q2"
      }
    },
    {
      "cell_type": "code",
      "source": [
        "seq_id_cutoff = [0.54] # sequence identity cutoff\n",
        "\n",
        "#query variables\n",
        "q_seq = SequenceQuery(\"MDDDIAALVVDNGSGMCKAGFAGDDAPRAVFPSIVGRPRHQGVMVGMGQKDSYVGDEAQS\"\n",
        "                  +\"KRGILTLKYPIEHGIVTNWDDMEKIWHHTFYNELRVAPEEHPVLLTEAPLNPKANREKMT\"\n",
        "                  +\"QIMFETFNTPAMYVAIQAVLSLYASGRTTGIVMDSGDGVTHTVPIYEGYALPHAILRLDL\"\n",
        "                  +\"AGRDLTDYLMKILTERGYSFTTTAEREIVRDIKEKLCYVALDFEQEMATAASSSSLEKSY\"\n",
        "                  +\"ELPDGQVITIGNERFRCPEALFQPSFLGMESCGIHETTFNSIMKCDVDIRKDLYANTVLS\"\n",
        "                  +\"GGTTMYPGIADRMQKEITALAPSTMKIKIIAPPERKYSVWIGGSILASLSTFQQMWISKQ\"\n",
        "                  +\"EYDESGPSIVHRKCF\",evalue_cutoff = 0.1,identity_cutoff = seq_id_cutoff[0])\n",
        "\n",
        "q_hel = attrs.rcsb_struct_symmetry.symbol == \"H\"\n",
        "\n",
        "query = q_seq & q_hel\n",
        "\n",
        "actin_PDB_ids_NA_H = []\n",
        "\n",
        "for pdb_id in query('entry'):\n",
        "   actin_PDB_ids_NA_H.append(pdb_id)\n",
        "\n",
        "print(\"There are %s helical actin* structures in the PDB\"%(len(actin_PDB_ids_NA_H)),\":\",actin_PDB_ids_NA_H[0:5],\"....\")"
      ],
      "metadata": {
        "colab": {
          "base_uri": "https://localhost:8080/"
        },
        "id": "SsiMntxsGCff",
        "outputId": "107f937d-a7a5-42e6-c091-ed343c93d652"
      },
      "execution_count": null,
      "outputs": [
        {
          "output_type": "stream",
          "name": "stdout",
          "text": [
            "There are 196 helical actin* structures in the PDB : ['6ANU', '6F1T', '6F38', '6F3A', '6ZNL'] ....\n"
          ]
        }
      ]
    },
    {
      "cell_type": "markdown",
      "source": [
        "### set 3 (used)\n",
        "\n",
        "*   Find entities which have 54% sequence similarity with actin (P60709)\n",
        "*   Vary the 'seq_id_cutoff' and run the next cell to check for presence of non-actin proteins in the list"
      ],
      "metadata": {
        "id": "vKjAHO56LJGb"
      }
    },
    {
      "cell_type": "code",
      "source": [
        "seq_id_cutoff = [0.54, 0.53] # sequence identity cutoff\n",
        "# vary the sequence identity cutoff and observe the change in the number of structures\n",
        "# the cutoff at which the number of structures change, use it for data api\n",
        "# query variables\n",
        "q_seq = SequenceQuery(\"MDDDIAALVVDNGSGMCKAGFAGDDAPRAVFPSIVGRPRHQGVMVGMGQKDSYVGDEAQS\"\n",
        "                  +\"KRGILTLKYPIEHGIVTNWDDMEKIWHHTFYNELRVAPEEHPVLLTEAPLNPKANREKMT\"\n",
        "                  +\"QIMFETFNTPAMYVAIQAVLSLYASGRTTGIVMDSGDGVTHTVPIYEGYALPHAILRLDL\"\n",
        "                  +\"AGRDLTDYLMKILTERGYSFTTTAEREIVRDIKEKLCYVALDFEQEMATAASSSSLEKSY\"\n",
        "                  +\"ELPDGQVITIGNERFRCPEALFQPSFLGMESCGIHETTFNSIMKCDVDIRKDLYANTVLS\"\n",
        "                  +\"GGTTMYPGIADRMQKEITALAPSTMKIKIIAPPERKYSVWIGGSILASLSTFQQMWISKQ\"\n",
        "                  +\"EYDESGPSIVHRKCF\",evalue_cutoff = 0.1,identity_cutoff = seq_id_cutoff[0])\n",
        "\n",
        "actin_entity_ids_NA = []\n",
        "\n",
        "for pdb_id in q_seq('polymer_entity'):\n",
        "   actin_entity_ids_NA.append(pdb_id)\n",
        "\n",
        "print(\"There are %s actin entities in the PDB\"%(len(actin_entity_ids_NA)),\":\",actin_entity_ids_NA[0:5],\"....\")"
      ],
      "metadata": {
        "colab": {
          "base_uri": "https://localhost:8080/"
        },
        "id": "zwnpbmG7RCsO",
        "outputId": "3ffef95f-35e7-4f62-fdb7-380447d37e05"
      },
      "execution_count": null,
      "outputs": [
        {
          "output_type": "stream",
          "name": "stdout",
          "text": [
            "There are 468 actin entities in the PDB : ['2OAN_1', '3U4L_1', '6ANU_1', '6F1T_2', '6F38_2'] ....\n"
          ]
        }
      ]
    },
    {
      "cell_type": "markdown",
      "source": [
        "## PDB data API\n"
      ],
      "metadata": {
        "id": "gad27ORzLUTD"
      }
    },
    {
      "cell_type": "markdown",
      "source": [
        "### set 1 (to set sequence similarity cutoff)\n",
        "based on the list of entities obtained from search API, fix the sequence similarity cutoff so that the list won't contain any non-actin entities\n",
        "\n",
        "This will print the name and pdb_id of entities which do not have actin in their name or has ('related', 'dynactin') in the name"
      ],
      "metadata": {
        "id": "OBUT2T7gMJF9"
      }
    },
    {
      "cell_type": "code",
      "source": [
        "ids_lst = actin_entity_ids_NA\n",
        "for index in range(len(ids_lst)):\n",
        "  ids_lst[index] = ids_lst[index].replace(\"-\",\"_\")\n",
        "\n",
        "ids_lst = json.dumps(actin_entity_ids_NA)\n",
        "#data api to get structure title\n",
        "query = '''\n",
        "{\n",
        "  polymer_entities(entity_ids: %s) {\n",
        "    rcsb_id\n",
        "    entry {\n",
        "      rcsb_entry_container_identifiers {\n",
        "        entry_id\n",
        "      }\n",
        "    }\n",
        "    rcsb_polymer_entity {\n",
        "      pdbx_description\n",
        "    }\n",
        "    rcsb_polymer_entity_container_identifiers {\n",
        "      reference_sequence_identifiers {\n",
        "        database_accession\n",
        "      }\n",
        "    }\n",
        "  }\n",
        "}\n",
        "'''\n",
        "\n",
        "data_query = query % (ids_lst)\n",
        "url_data_api = 'https://data.rcsb.org/graphql'\n",
        "# instantiate client with the RCSB Data API endpoint\n",
        "client = GraphqlClient(endpoint = url_data_api)\n",
        "result = client.execute(query=data_query)\n",
        "result = result['data']\n",
        "pprint(result['polymer_entities'][0:1])\n",
        "\n",
        "#\n",
        "for entity in result['polymer_entities']:\n",
        "    if any(elem in entity['rcsb_polymer_entity']['pdbx_description'] for elem in ['related', 'dynactin', 'Dynactin','DYNACTIN']):\n",
        "      print(entity['rcsb_id'], \": \",entity['rcsb_polymer_entity']['pdbx_description'])\n",
        "    elif any(elem in entity['rcsb_polymer_entity']['pdbx_description'] for elem in ['actin', 'Actin', 'ACTIN']):\n",
        "      pass\n",
        "    else:\n",
        "      print(entity['rcsb_id'], \": \",entity['rcsb_polymer_entity']['pdbx_description'])"
      ],
      "metadata": {
        "id": "ESSh4taeR_K5",
        "colab": {
          "base_uri": "https://localhost:8080/"
        },
        "outputId": "2396defb-a914-4261-dea1-5ebdf3d59edf"
      },
      "execution_count": null,
      "outputs": [
        {
          "output_type": "stream",
          "name": "stdout",
          "text": [
            "[{'entry': {'rcsb_entry_container_identifiers': {'entry_id': '2OAN'}},\n",
            "  'rcsb_id': '2OAN_1',\n",
            "  'rcsb_polymer_entity': {'pdbx_description': 'Actin, cytoplasmic 1'},\n",
            "  'rcsb_polymer_entity_container_identifiers': {'reference_sequence_identifiers': [{'database_accession': 'P60712'}]}}]\n",
            "7Y8R_7 :  ACTB protein (Fragment)\n",
            "8J07_67 :  ACTA2\n",
            "7QIM_1 :  ACTS protein\n",
            "8IB8_10 :  ACTB protein (Fragment)\n"
          ]
        }
      ]
    },
    {
      "cell_type": "markdown",
      "source": [
        "### set 2 (generate dataset)\n",
        "Use data API for generating dataset\n",
        "*   add or remove query variables to decide what to include in the dataset\n",
        "*   the output is a json object with information about all the actin entities listed in the result of search API\n",
        "\n",
        "Current query variables:\n",
        "1. entry_id: 1ABC_1\n",
        "2. experimental method: \"X-ray crystallography\"\n",
        "3. resolution: 3 Å\n",
        "4. structure title:\n",
        "5. assembly symmetry type: \"helical, assymetric\"\n",
        "6. entity sequence:\n",
        "7. entity name:\n",
        "8. pdb chain id:\n",
        "9. author chain id:\n",
        "10. uniprot id:\n",
        "\n"
      ],
      "metadata": {
        "id": "G6N2z8w8Mauw"
      }
    },
    {
      "cell_type": "code",
      "source": [
        "ids_lst = actin_entity_ids_NA\n",
        "for index in range(len(ids_lst)):\n",
        "  ids_lst[index] = ids_lst[index].replace(\"-\",\"_\")\n",
        "\n",
        "ids_lst = json.dumps(actin_entity_ids_NA) #string of list of entry ids from search api\n",
        "\n",
        "#data api to get structure title\n",
        "query = '''\n",
        "{\n",
        "  polymer_entities(entity_ids: %s) {\n",
        "    rcsb_id\n",
        "    entry {\n",
        "      exptl {\n",
        "        method\n",
        "      }\n",
        "      rcsb_entry_container_identifiers {\n",
        "        entry_id\n",
        "      }\n",
        "      rcsb_entry_info {\n",
        "        resolution_combined\n",
        "      }\n",
        "      struct {\n",
        "        title\n",
        "      }\n",
        "      assemblies {\n",
        "        rcsb_struct_symmetry {\n",
        "          type\n",
        "        }\n",
        "      }\n",
        "    }\n",
        "    entity_poly {\n",
        "      pdbx_seq_one_letter_code_can\n",
        "      rcsb_sample_sequence_length\n",
        "    }\n",
        "    rcsb_polymer_entity {\n",
        "      pdbx_description\n",
        "    }\n",
        "    polymer_entity_instances {\n",
        "      rcsb_polymer_entity_instance_container_identifiers {\n",
        "        asym_id\n",
        "        auth_asym_id\n",
        "      }\n",
        "    }\n",
        "    rcsb_polymer_entity_container_identifiers {\n",
        "      reference_sequence_identifiers {\n",
        "        database_accession\n",
        "        database_name\n",
        "      }\n",
        "    }\n",
        "  }\n",
        "}\n",
        "'''\n",
        "\n",
        "data_query = query % (ids_lst)\n",
        "url_data_api = 'https://data.rcsb.org/graphql'\n",
        "# instantiate client with the RCSB Data API endpoint\n",
        "client = GraphqlClient(endpoint = url_data_api)\n",
        "#pdb_string = ','.join(map(\"'{0}'\".format, pdb_ids))\n",
        "#query_variables = { 'entry_ids': pdb_string }\n",
        "result = client.execute(query=data_query)\n",
        "result = result['data']\n",
        "pprint(result['polymer_entities'][0:1])\n",
        "\n",
        "#save output\n",
        "# Serializing json\n",
        "json_object = json.dumps(result, indent=4)"
      ],
      "metadata": {
        "colab": {
          "base_uri": "https://localhost:8080/"
        },
        "id": "ecnbx2DmP6_f",
        "outputId": "7d2e2b6e-ea0e-406a-9743-1e0c4b2e1136"
      },
      "execution_count": null,
      "outputs": [
        {
          "output_type": "stream",
          "name": "stdout",
          "text": [
            "[{'entity_poly': {'pdbx_seq_one_letter_code_can': 'MDDDIAALVVDNGSGMCKAGFAGDDAPRAVFPSIVGRPRHQGVMVGMGQKDSYVGDEAQSKRGILTLKYPIEHGIVTNWDDMEKIWHHTFYNELRVAPEEHPVLLTEAPLNPKANREKMTQIMFETFNTPAMYVAIQAVLSLYASGRTTGIVMDSGDGVTHTVPIYEGYALPHAILRLDLAGRDLTDYLMKILTERGYSFTTTAEREIVRDIKEKLCYVALDFEQEMATAASSSSLEKSYELPDGQVITIGNERFRCPEALFQPSFLGMESCGIHETTFNSIMKCDVDIRKDLYANTVLSGGTTMYPGIADRMQKEITALAPSTMKIKIIAPPERKYSVWIGGSILASLSTFQQMWISKQEYDESGPSIVHRKCF',\n",
            "                  'rcsb_sample_sequence_length': 375},\n",
            "  'entry': {'assemblies': [{'rcsb_struct_symmetry': [{'type': 'Asymmetric'},\n",
            "                                                     {'type': 'Asymmetric'}]}],\n",
            "            'exptl': [{'method': 'ELECTRON MICROSCOPY'}],\n",
            "            'rcsb_entry_container_identifiers': {'entry_id': '6ZO4'},\n",
            "            'rcsb_entry_info': {'resolution_combined': [8.2]},\n",
            "            'struct': {'title': 'The pointed end complex of dynactin bound to '\n",
            "                                'BICD2'}},\n",
            "  'polymer_entity_instances': [{'rcsb_polymer_entity_instance_container_identifiers': {'asym_id': 'D',\n",
            "                                                                                       'auth_asym_id': 'H'}}],\n",
            "  'rcsb_id': '6ZO4_3',\n",
            "  'rcsb_polymer_entity': {'pdbx_description': 'Actin, cytoplasmic 1'},\n",
            "  'rcsb_polymer_entity_container_identifiers': {'reference_sequence_identifiers': [{'database_accession': 'Q6QAQ1',\n",
            "                                                                                    'database_name': 'UniProt'}]}}]\n"
          ]
        }
      ]
    },
    {
      "cell_type": "markdown",
      "source": [
        "### JSON to Dataframe\n",
        "for better visualization and easier data handling, convert the json object obtained from data API to a dataframe\n",
        "\n",
        "each row of the dataframe corresponds to a single actin entity"
      ],
      "metadata": {
        "id": "cAycC-LbNAOO"
      }
    },
    {
      "cell_type": "code",
      "source": [
        "# df is a dataframe with 466 actin entities as of 19/12/2023\n",
        "master_lst = []\n",
        "for entity in result['polymer_entities']:\n",
        "  entity_id = entity['rcsb_id']\n",
        "  try:\n",
        "    entity_seq = entity['entity_poly']['pdbx_seq_one_letter_code_can']\n",
        "    entity_seq_length = entity['entity_poly']['rcsb_sample_sequence_length']\n",
        "    accessions = []\n",
        "    for acc in entity['rcsb_polymer_entity_container_identifiers']['reference_sequence_identifiers']:\n",
        "      if acc['database_name'] == \"UniProt\":\n",
        "        accessions.append(acc['database_accession'])\n",
        "    uni_acc = ','.join(accessions)\n",
        "    entity_uniprot_id = entity['rcsb_polymer_entity_container_identifiers']['reference_sequence_identifiers'][0]['database_accession']\n",
        "    pdb_resolution = entity['entry']['rcsb_entry_info']['resolution_combined'][0]\n",
        "    exptl_methods = []\n",
        "    for method in entity['entry']['exptl']:\n",
        "      exptl_methods.append(method['method'])\n",
        "    exptl_method = ','.join(exptl_methods)\n",
        "    all_sym_in_assembly = []\n",
        "    for assem in entity['entry']['assemblies']:\n",
        "      for sym_type in assem['rcsb_struct_symmetry']:\n",
        "        sym = sym_type['type']\n",
        "        all_sym_in_assembly.append(sym)\n",
        "    assembly_symmetry = ','.join(all_sym_in_assembly)\n",
        "    structure_title = entity['entry']['struct']['title']\n",
        "    #pdb chains\n",
        "    pdb_chains = []\n",
        "    auth_chains = []\n",
        "    for chain_dict in entity['polymer_entity_instances']:\n",
        "      pdb_chains.append(chain_dict['rcsb_polymer_entity_instance_container_identifiers']['asym_id'])\n",
        "      auth_chains.append(chain_dict['rcsb_polymer_entity_instance_container_identifiers']['auth_asym_id'])\n",
        "    asym_ids = ','.join(pdb_chains)\n",
        "    auth_asym_ids = ','.join(auth_chains)\n",
        "    master_lst.append([entity_id,entity_uniprot_id,asym_ids,auth_asym_ids,structure_title,pdb_resolution,assembly_symmetry,entity_seq_length,exptl_method,entity_seq])\n",
        "  except TypeError:\n",
        "    print(entity_id)\n",
        "    try:\n",
        "      entity_seq = entity['entity_poly']['pdbx_seq_one_letter_code_can']\n",
        "      entity_seq_length = entity['entity_poly']['rcsb_sample_sequence_length']\n",
        "      entity_uniprot_id = entity['rcsb_polymer_entity_container_identifiers']['reference_sequence_identifiers'][0]['database_accession']\n",
        "    except TypeError:\n",
        "      entity_seq = 'none'\n",
        "      entity_seq_length = 'none'\n",
        "      entity_uniprot_id = 'none'\n",
        "    try:\n",
        "      pdb_resolution = entity['entry']['rcsb_entry_info']['resolution_combined'][0]\n",
        "    except TypeError:\n",
        "      pdb_resolution = 'none'\n",
        "    try:\n",
        "      exptl_methods = []\n",
        "      for method in entity['entry']['exptl']:\n",
        "        exptl_methods.append(method['method'])\n",
        "      exptl_method = ','.join(exptl_methods)\n",
        "    except TypeError:\n",
        "      exptl_method = 'none'\n",
        "    try:\n",
        "      all_sym_in_assembly = []\n",
        "      for assem in entity['entry']['assemblies']:\n",
        "        for sym_type in assem['rcsb_struct_symmetry']:\n",
        "          sym = sym_type['type']\n",
        "          all_sym_in_assembly.append(sym)\n",
        "      assembly_symmetry = ','.join(all_sym_in_assembly)\n",
        "    except TypeError:\n",
        "      assembly_symmetry = 'none'\n",
        "    try:\n",
        "      #pdb chains\n",
        "      pdb_chains = []\n",
        "      auth_chains = []\n",
        "      for chain_dict in entity['polymer_entity_instances']:\n",
        "        pdb_chains.append(chain_dict['rcsb_polymer_entity_instance_container_identifiers']['asym_id'])\n",
        "        auth_chains.append(chain_dict['rcsb_polymer_entity_instance_container_identifiers']['auth_asym_id'])\n",
        "      asym_ids = ','.join(pdb_chains)\n",
        "      auth_asym_ids = ','.join(auth_chains)\n",
        "    except TypeError:\n",
        "      asym_ids = 'none'\n",
        "      auth_asym_ids = 'none'\n",
        "    structure_title = entity['entry']['struct']['title']\n",
        "    master_lst.append([entity_id,entity_uniprot_id,asym_ids,auth_asym_ids,structure_title,pdb_resolution,assembly_symmetry,entity_seq_length,exptl_method,entity_seq])\n",
        "    pass\n",
        "\n",
        "df = pd.DataFrame(master_lst,columns=['entity_id','uniprot_id','pdb_chain_id','auth_chain_id','structure_title','resolution','symmetry','seq_length', 'method','pdb_sequence'])\n",
        "df.index+=1\n",
        "\n",
        "#8J07_67\n",
        "#2W49_5\n",
        "#2W4U_5\n",
        "#6V6S_7\n",
        "#7U8K_1 have at least one of the query variables missing"
      ],
      "metadata": {
        "id": "EcA_DQP4ePNp",
        "colab": {
          "base_uri": "https://localhost:8080/"
        },
        "outputId": "139ed712-5a40-4771-bc86-5d01b965e391"
      },
      "execution_count": null,
      "outputs": [
        {
          "output_type": "stream",
          "name": "stdout",
          "text": [
            "8J07_67\n",
            "2W49_5\n",
            "2W4U_5\n",
            "6V6S_7\n",
            "7U8K_1\n"
          ]
        }
      ]
    },
    {
      "cell_type": "markdown",
      "source": [
        "## PDBe-GRAPH API"
      ],
      "metadata": {
        "id": "qKikM04Jq_De"
      }
    },
    {
      "cell_type": "markdown",
      "source": [
        "### Download assembly information\n",
        "To get the **number of copies** for each entity in an assembly, we need to download the assembly information\n",
        "\n",
        "Note: (The information is downloaded for only 195* pdb ids for which symmetry type is 'helical', since non-helical pdb ids won't contain actin filament)\n",
        "\n",
        "example: https://www.ebi.ac.uk/pdbe/api/pdb/entry/assembly/2oan\n",
        "\n",
        "This information is used to separate actin filaments from the dataset"
      ],
      "metadata": {
        "id": "CFsgp_teNeAb"
      }
    },
    {
      "cell_type": "code",
      "source": [
        "api_url = \"https://www.ebi.ac.uk/pdbe/api/pdb/entry/assembly\"\n",
        "PDB_ids = [item for item in actin_PDB_ids_NA_H]\n",
        "\n",
        "def get_assembly_info(pdb_id,api_url):\n",
        "  # Make a GET call to the API URL\n",
        "    get_request = requests.get(url=api_url+\"/\"+pdb_id)\n",
        "\n",
        "    if get_request.status_code == 200:\n",
        "        # If there is data returned (with HTML status code 200)\n",
        "        # then return the data in JSON format\n",
        "        return get_request.json()\n",
        "    else:\n",
        "        # If there is no data, print status code and response\n",
        "        # print(get_request.status_code, get_request.text)\n",
        "        return None\n",
        "\n",
        "for pdb_id in PDB_ids:\n",
        "\tcompleteName = \"/content/drive/MyDrive/Omkar_Masters_thesis/actin_dataset/assemblies\" +\"/\"+pdb_id+\".json\"\n",
        "\tif os.path.exists(completeName) == False:\n",
        "\t\tassembly_info = get_assembly_info(pdb_id,api_url) # a dictionary\n",
        "\t\tjson_object = json.dumps(assembly_info, indent=4)\n",
        "\t\twith open(completeName, \"w\") as outfile:\n",
        "\t\t\toutfile.write(json_object)\n",
        "\tprint(\"done \"+pdb_id)"
      ],
      "metadata": {
        "id": "OnzaVqS2q-cW",
        "colab": {
          "base_uri": "https://localhost:8080/"
        },
        "outputId": "8b1cdc0b-6869-4d04-db3b-d04536855b72"
      },
      "execution_count": null,
      "outputs": [
        {
          "output_type": "stream",
          "name": "stdout",
          "text": [
            "done 6ANU\n",
            "done 6F1T\n",
            "done 6F38\n",
            "done 6F3A\n",
            "done 6ZNL\n",
            "done 7PDZ\n",
            "done 7Z8F\n",
            "done 7ZTC\n",
            "done 7ZTD\n",
            "done 8IAH\n",
            "done 8IAI\n",
            "done 8IB2\n",
            "done 8OI6\n",
            "done 3BYH\n",
            "done 3J0S\n",
            "done 3J82\n",
            "done 3LUE\n",
            "done 8DNH\n",
            "done 5NW4\n",
            "done 6CXI\n",
            "done 6CXJ\n",
            "done 6G2T\n",
            "done 8OID\n",
            "done 5JLH\n",
            "done 8DNF\n",
            "done 8OI8\n",
            "done 5ADX\n",
            "done 5AFU\n",
            "done 8OH4\n",
            "done 4M63\n",
            "done 3B63\n",
            "done 7JH7\n",
            "done 7LRG\n",
            "done 7TIJ\n",
            "done 7TIT\n",
            "done 7TJ7\n",
            "done 8DD0\n",
            "done 8DMY\n",
            "done 8EFH\n",
            "done 8EFI\n",
            "done 8ENC\n",
            "done 1M8Q\n",
            "done 1MVW\n",
            "done 1O18\n",
            "done 1O19\n",
            "done 1O1A\n",
            "done 1O1B\n",
            "done 1O1C\n",
            "done 1O1D\n",
            "done 1O1E\n",
            "done 1O1F\n",
            "done 1O1G\n",
            "done 2Y83\n",
            "done 2YJF\n",
            "done 3B5U\n",
            "done 3G37\n",
            "done 3J4K\n",
            "done 3J8A\n",
            "done 3J8I\n",
            "done 3J8J\n",
            "done 3J8K\n",
            "done 3MFP\n",
            "done 3TPQ\n",
            "done 4A7F\n",
            "done 4A7H\n",
            "done 4A7L\n",
            "done 4A7N\n",
            "done 5JLF\n",
            "done 5MVA\n",
            "done 5MVY\n",
            "done 5ONV\n",
            "done 5OOC\n",
            "done 5OOD\n",
            "done 5OOE\n",
            "done 5OOF\n",
            "done 5YU8\n",
            "done 6AV9\n",
            "done 6AVB\n",
            "done 6BIH\n",
            "done 6C1D\n",
            "done 6C1G\n",
            "done 6C1H\n",
            "done 6D8C\n",
            "done 6DJM\n",
            "done 6DJN\n",
            "done 6DJO\n",
            "done 6FHL\n",
            "done 6KLL\n",
            "done 6KLN\n",
            "done 6KN7\n",
            "done 6KN8\n",
            "done 6M5G\n",
            "done 6T1Y\n",
            "done 6T20\n",
            "done 6T23\n",
            "done 6T24\n",
            "done 6T25\n",
            "done 6U96\n",
            "done 6UBY\n",
            "done 6UC0\n",
            "done 6UC4\n",
            "done 6UPV\n",
            "done 6UPW\n",
            "done 6VAO\n",
            "done 6VAU\n",
            "done 6VEC\n",
            "done 6W17\n",
            "done 6WVT\n",
            "done 6X5Z\n",
            "done 7AD9\n",
            "done 7AHN\n",
            "done 7AHQ\n",
            "done 7AQK\n",
            "done 7BT7\n",
            "done 7BTE\n",
            "done 7BTI\n",
            "done 7K20\n",
            "done 7K21\n",
            "done 7KCH\n",
            "done 7KO4\n",
            "done 7KO5\n",
            "done 7KO7\n",
            "done 7KON\n",
            "done 7KOR\n",
            "done 7NEP\n",
            "done 7P1G\n",
            "done 7PLU\n",
            "done 7PLZ\n",
            "done 7PM3\n",
            "done 7PM6\n",
            "done 7PME\n",
            "done 7QIM\n",
            "done 7R94\n",
            "done 7SX8\n",
            "done 7SX9\n",
            "done 7SXA\n",
            "done 7TPT\n",
            "done 7U8K\n",
            "done 7UTI\n",
            "done 7UTJ\n",
            "done 7UTL\n",
            "done 7UUW\n",
            "done 7UXF\n",
            "done 7Z7H\n",
            "done 7Z7I\n",
            "done 8A2R\n",
            "done 8A2S\n",
            "done 8A2T\n",
            "done 8A2U\n",
            "done 8A2Y\n",
            "done 8A2Z\n",
            "done 8D13\n",
            "done 8D14\n",
            "done 8D15\n",
            "done 8D17\n",
            "done 8D18\n",
            "done 8DMX\n",
            "done 8E9B\n",
            "done 8F8P\n",
            "done 8F8Q\n",
            "done 8F8R\n",
            "done 8F8S\n",
            "done 8F8T\n",
            "done 8UEE\n",
            "done 7R91\n",
            "done 7RB8\n",
            "done 7RB9\n",
            "done 7UDT\n",
            "done 7UDU\n",
            "done 8Q4G\n",
            "done 7QIN\n",
            "done 7R8V\n",
            "done 8D16\n",
            "done 5KG8\n",
            "done 2W49\n",
            "done 2W4U\n",
            "done 8ORD\n",
            "done 6BNO\n",
            "done 6BNP\n",
            "done 6BNQ\n",
            "done 6BNU\n",
            "done 6BNV\n",
            "done 6BNW\n",
            "done 5NOG\n",
            "done 5NOJ\n",
            "done 5NOL\n",
            "done 6IUG\n",
            "done 5OGW\n",
            "done 6TU4\n",
            "done 6TU7\n",
            "done 7ALN\n",
            "done 8CCN\n",
            "done 8CCO\n",
            "done 7Q8B\n",
            "done 7Q8C\n",
            "done 7Q8S\n"
          ]
        }
      ]
    },
    {
      "cell_type": "markdown",
      "source": [
        "### generate filament and (non-filament+filament) database\n",
        "\n",
        "\n",
        "*   separate the pdb ids which have less than 3 number of copies of actin entity in all of the assemblies\n",
        "*   curate the filament dataset to ensure that only actin filaments are involed\n",
        "*   download the final dataframes: 'actin_filament_entities_NA.xlsx' and 'actin_all_entities_NA.xlsx'\n",
        "\n"
      ],
      "metadata": {
        "id": "oSyzmP7oOKWv"
      }
    },
    {
      "cell_type": "code",
      "source": [
        "# actin entities with less than 3 copies\n",
        "\n",
        "df2 = pd.DataFrame() # all helical symmetry structures -> 201 actin entities which are a part of helical assemblies (19/12/2023)\n",
        "filaments = []\n",
        "for index, row in df.iterrows():\n",
        "\tif 'Helical' in row['symmetry']:\n",
        "\t\tfilaments.append(row.to_dict())\n",
        "df2 = pd.DataFrame.from_records(filaments)\n",
        "df2.reset_index()\n",
        "\n",
        "PDB_ids = [x[0:4] for x in list(df2['entity_id'])] # pdb ids of the above mentioned actin entities\n",
        "entity_ids = list(df2['entity_id'])\n",
        "act_3_pdbs = []\n",
        "act_more_than_3_pdbs = []\n",
        "\n",
        "for pdb_id in PDB_ids:\n",
        "\tcompleteName = \"/content/drive/MyDrive/Omkar_Masters_thesis/actin_dataset/assemblies/\"+pdb_id+\".json\"\n",
        "\tactin_entities = [int(x.partition('_')[2]) for x in entity_ids if pdb_id in x]\n",
        "\twith open(completeName, 'r') as openfile:\n",
        "\t\tresult = json.load(openfile)\n",
        "\t\tfor assembly in result[pdb_id.lower()]:\n",
        "\t\t\tfor entity in assembly['entities']:\n",
        "\t\t\t\tif entity['entity_id'] in actin_entities:\n",
        "\t\t\t\t\tif entity['number_of_copies'] < 3:\n",
        "#\t\t\t\t\t\tprint(pdb_id)\n",
        "\t\t\t\t\t\tact_3_pdbs.append(pdb_id)\n",
        "\t\t\t\t\telse:\n",
        "\t\t\t\t\t\tact_more_than_3_pdbs.append(pdb_id)\n",
        "\n",
        "common_pdbs = list(np.intersect1d(act_3_pdbs,act_more_than_3_pdbs)) # this list has pdb ids in which number of copies of actin entity differ in multiple assemblies (2YJF) or malformed annotation (3B63)"
      ],
      "metadata": {
        "id": "OfUEbOyscDdH"
      },
      "execution_count": null,
      "outputs": []
    },
    {
      "cell_type": "code",
      "source": [
        "count_of_act_3 = Counter(act_3_pdbs) # check those which have count of more than 1\n",
        "for key, value in count_of_act_3.items():\n",
        "  if value > 1:\n",
        "    print(key, value)\n",
        "count_of_act_more_than_3 = Counter(act_more_than_3_pdbs) # check those which have count of more than 1\n",
        "print(\"\\n\")\n",
        "for key, value in count_of_act_more_than_3.items():\n",
        "  if value > 1:\n",
        "    print(key, value)"
      ],
      "metadata": {
        "colab": {
          "base_uri": "https://localhost:8080/"
        },
        "id": "1OeuRPhA6iTy",
        "outputId": "c4b26f8f-19f6-49d5-e471-7dcac2558d3d"
      },
      "execution_count": null,
      "outputs": [
        {
          "output_type": "stream",
          "name": "stdout",
          "text": [
            "2YJF 2\n",
            "3B63 42\n",
            "\n",
            "\n",
            "3B63 7\n"
          ]
        }
      ]
    },
    {
      "cell_type": "code",
      "source": [
        "filaments_curated = []\n",
        "print(act_3_pdbs)\n",
        "#print(list(df2['entity_id']))\n",
        "act_3_entities = []\n",
        "\n",
        "for elem in list(df2['entity_id']):\n",
        "\tif any(act_3_pdb in elem for act_3_pdb in act_3_pdbs):\n",
        "\t\tact_3_entities.append(elem)\n",
        "print(act_3_entities)\n",
        "\n",
        "# manually check for entities in the above list (act_3_entities) if all of them have less than 3 actin entities\n",
        "# 3B63 is actually a filament\n",
        "duplicate_entities_pdb = [entity[0:4] for entity in act_3_entities]\n",
        "counter_dict = Counter(duplicate_entities_pdb) #{'5ADX': 1, '2YJF': 1, '3B63': 7,..}\n",
        "\n",
        "act_3_entities_curated = []\n",
        "for key, value in counter_dict.items():\n",
        "  if value>1:\n",
        "    for entity in act_3_entities:\n",
        "      if entity.startswith(key):\n",
        "        pass\n",
        "      else:\n",
        "        act_3_entities_curated.append(entity)\n",
        "print(act_3_entities_curated) # non-filament actin entities which are part of helical assemblies but number of copies is less than 3\n",
        "\n",
        "filament_check = pd.read_excel(\"/content/drive/MyDrive/Omkar_Masters_thesis/actin_dataset/actin_database_sheets/actin_filament_entities_NA.xlsx\") # actin filament list as of 19/12/2023\n",
        "\n",
        "for index, row in df2.iterrows():\n",
        "\tif any(arp_ent in row['entity_id'] for arp_ent in act_3_entities_curated):\n",
        "\t\tpass\n",
        "\telse:\n",
        "\t\tfilaments_curated.append(row.to_dict())\n",
        "df3 = pd.DataFrame.from_records(filaments_curated) # df2 filtered for supposedly actin filaments after checking for no of actin chains in assemblies\n",
        "df3.index+=1\n",
        "\n",
        "# manual check for filaments\n",
        "for index, row in df3.iterrows():\n",
        "\tif any(elem in row['structure_title'] for elem in [\"F-actin\",\"filament\",\"f-actin\",\"Filament\",\"F-Actin\",\"FILAMENT\",\"F-ACTIN\",\"myosin\",\"Myosin\"]): # check myosin\n",
        "\t\tpass\n",
        "\telif any(elem in row['method'] for elem in ['X-RAY DIFFRACTION', 'FIBER DIFFRACTION','ELECTRON CRYSTALLOGRAPHY','SOLID-STATE NMR']):\n",
        "\t\tprint(row['entity_id'], \" not EM\")\n",
        "\telif any(elem in row[\"entity_id\"] for elem in list(filament_check['entity_id'])):\n",
        "\t\tpass\n",
        "\telse:\n",
        "\t\tprint(row[\"entity_id\"])\n",
        "\n",
        "# 3TPQ is not filament\n",
        "df3 = df3[df3.entity_id != '3TPQ_1'] # final curated df3 exclusively containing actin filaments\n",
        "df3.reset_index(inplace=True)\n",
        "df3.index+=1\n",
        "df3 = df3.iloc[:,1:]\n",
        "\n",
        "# add filament status in the original dataset\n",
        "df['filament_status'] = 'non_filament'\n",
        "\n",
        "for index, row in df.iterrows():\n",
        "\tif any(elem in row['entity_id'] for elem in list(df3['entity_id'])):\n",
        "\t\tdf.at[index, 'filament_status'] = row['filament_status'].replace(\"non_filament\",\"filament\")\n",
        "\n",
        "savepath = \"/content/drive/MyDrive/Omkar_Masters_thesis/actin_dataset/actin_database_sheets\"# add a date to the name\n",
        "df3.to_excel(os.path.join(savepath,\"actin_filament_entities_NA.xlsx\"))\n",
        "df.to_excel(os.path.join(savepath,\"actin_all_entities_NA.xlsx\"))\n"
      ],
      "metadata": {
        "id": "KOga62fEiRaG",
        "colab": {
          "base_uri": "https://localhost:8080/"
        },
        "outputId": "15c27b41-ebf0-4178-8131-9caa6d08608d"
      },
      "execution_count": null,
      "outputs": [
        {
          "output_type": "stream",
          "name": "stdout",
          "text": [
            "['7Z8F', '2YJF', '2YJF', '3B63', '3B63', '3B63', '3B63', '3B63', '3B63', '3B63', '3B63', '3B63', '3B63', '3B63', '3B63', '3B63', '3B63', '3B63', '3B63', '3B63', '3B63', '3B63', '3B63', '3B63', '3B63', '3B63', '3B63', '3B63', '3B63', '3B63', '3B63', '3B63', '3B63', '3B63', '3B63', '3B63', '3B63', '3B63', '3B63', '3B63', '3B63', '3B63', '3B63', '3B63', '3B63', '5ADX', '5AFU', '5NW4', '6F1T', '6F38', '6F3A', '6ZNL']\n",
            "['7Z8F_2', '2YJF_1', '3B63_1', '3B63_2', '3B63_3', '3B63_4', '3B63_5', '3B63_6', '3B63_7', '5ADX_2', '5AFU_6', '5NW4_11', '6F1T_2', '6F38_2', '6F3A_2', '6ZNL_2']\n",
            "['7Z8F_2', '2YJF_1', '5ADX_2', '5AFU_6', '5NW4_11', '6F1T_2', '6F38_2', '6F3A_2', '6ZNL_2']\n",
            "3TPQ_1  not EM\n"
          ]
        }
      ]
    },
    {
      "cell_type": "markdown",
      "source": [
        "## Final database numbers"
      ],
      "metadata": {
        "id": "VP5B5iLKPZ57"
      }
    },
    {
      "cell_type": "code",
      "source": [
        "# final numbers\n",
        "# actin structures\n",
        "all_actin_entities = list(df['entity_id'])\n",
        "all_actin_pdbs = list(set([entity[0:4] for entity in all_actin_entities]))\n",
        "\n",
        "all_actin_filament_entities = list(df3['entity_id'])\n",
        "all_actin_filament_pdbs = list(set([entity[0:4] for entity in all_actin_filament_entities])) # list of pdb ids of all actin filaments (185 as of 19/12/2023)\n",
        "print(all_actin_filament_pdbs)\n",
        "print(\"number of structures which have actin filament: \", len(all_actin_filament_pdbs))\n",
        "\n",
        "all_actin_pdb_dict = {}\n",
        "for pdb in all_actin_pdbs:\n",
        "  all_actin_pdb_dict[pdb] = 'non-filament'\n",
        "for pdb in all_actin_filament_pdbs:\n",
        "  all_actin_pdb_dict[pdb] = 'filament'\n",
        "\n",
        "df_actin_pdb_status = pd.DataFrame(list(all_actin_pdb_dict.items()), columns=['pdb_id', 'status'])\n",
        "df_actin_pdb_status.index+=1\n",
        "df_actin_pdb_status.to_excel(os.path.join(savepath,\"actin_filament_status.xlsx\"))"
      ],
      "metadata": {
        "colab": {
          "base_uri": "https://localhost:8080/"
        },
        "id": "d-KZgfm66YRk",
        "outputId": "cf51dd8f-90e2-4109-d2b3-ad7504c81c87"
      },
      "execution_count": null,
      "outputs": [
        {
          "output_type": "stream",
          "name": "stdout",
          "text": [
            "['7U8K', '7RB9', '1O1G', '1O19', '3J82', '5KG8', '6CXI', '1MVW', '6DJM', '6T23', '7PDZ', '6ANU', '6M5G', '5NOG', '7SX9', '6DJN', '5OOD', '6KN8', '8EFI', '6UC0', '7QIN', '8F8Q', '8D17', '6C1D', '8DMY', '5YU8', '6T25', '8CCO', '6T24', '5NOJ', '7SXA', '8ENC', '6DJO', '4A7F', '8ORD', '3B63', '7UUW', '6X5Z', '4A7N', '3J8A', '1O18', '8OH4', '7K20', '3BYH', '1O1D', '7SX8', '7UTJ', '8OI8', '7ALN', '7R8V', '8A2T', '8DNF', '6BNU', '8D16', '8OI6', '1O1B', '3J8J', '7Z7H', '6CXJ', '8F8S', '6BNQ', '3MFP', '7KON', '1O1C', '7NEP', '6KLL', '7KO4', '4A7L', '7ZTC', '6BNP', '6UBY', '7BTI', '7P1G', '8F8P', '6AVB', '7AQK', '7PLZ', '5OOC', '6BNW', '4M63', '2W4U', '5ONV', '7UDT', '5OOF', '7R94', '8Q4G', '6BNO', '7KO7', '6D8C', '8F8R', '6KN7', '7KOR', '5JLH', '6UPV', '8D18', '7TIT', '8CCN', '5OOE', '7LRG', '8A2Z', '6KLN', '1O1E', '2W49', '6TU4', '3LUE', '8D14', '7PME', '6UC4', '6C1G', '6FHL', '7JH7', '8EFH', '3B5U', '6T1Y', '5MVY', '3J8K', '7ZTD', '6W17', '7AD9', '7K21', '8IAI', '7QIM', '1O1A', '8D15', '8E9B', '6G2T', '6VAU', '7AHN', '6AV9', '5MVA', '6UPW', '6VAO', '8F8T', '7UTL', '7PLU', '8IAH', '6C1H', '7Q8C', '6VEC', '6U96', '6TU7', '7PM3', '5JLF', '3J4K', '7BT7', '6WVT', '8IB2', '7TPT', '7Q8S', '2Y83', '7Q8B', '8DNH', '4A7H', '7RB8', '7TJ7', '8D13', '8A2Y', '7KO5', '7TIJ', '8UEE', '5OGW', '3J0S', '7PM6', '6IUG', '7KCH', '8A2U', '7Z7I', '8DD0', '8OID', '7BTE', '6BIH', '8A2R', '8DMX', '7UTI', '7AHQ', '3J8I', '1M8Q', '7R91', '8A2S', '6T20', '5NOL', '6BNV', '3G37', '1O1F', '7UDU', '7UXF']\n",
            "number of structures which have actin filament:  186\n"
          ]
        }
      ]
    },
    {
      "cell_type": "code",
      "source": [
        "plot_dict = {}\n",
        "plot_dict2 = {}\n",
        "master_lst =[]\n",
        "master_lst2 = []\n",
        "res_cutoff = [3,3.5,4,4.5,5,5.5,6]\n",
        "no_res_list_all = []\n",
        "no_res_list_f = []\n",
        "\n",
        "for ress in res_cutoff:\n",
        "\tloop_lst = []\n",
        "\tfor index,row in df.iterrows():\n",
        "\t\tres = row['resolution']\n",
        "\t\t#res = res[:-1]\n",
        "\t\ttry:\n",
        "\t\t\tif float(res) <= ress:\n",
        "\t\t\t\tloop_lst.append(row['entity_id'][0:4])\n",
        "\t\texcept ValueError:\n",
        "\t\t\tno_res_list_all.append(row['entity_id'][0:4])\n",
        "\t\t\tpass\n",
        "\tloop_lst = list(set(loop_lst))\n",
        "\tmaster_lst.append(len(loop_lst))\n",
        "\tloop_lst2 = []\n",
        "\n",
        "\tfor index,row in df3.iterrows():\n",
        "\t\tres = row['resolution']#[1:]\n",
        "\t\t#res = res[:-1]\n",
        "\t\ttry:\n",
        "\t\t\tif float(res) <= ress:\n",
        "\t\t\t\tloop_lst2.append(row['entity_id'][0:4])\n",
        "\t\texcept ValueError:\n",
        "\t\t\tno_res_list_f.append(row['entity_id'][0:4])\n",
        "\t\t\tpass\n",
        "\tloop_lst2 = list(set(loop_lst2))\n",
        "\tmaster_lst2.append(len(loop_lst2))\n",
        "#print(master_lst,master_lst2)\n",
        "\n",
        "no_res_list_all = list(set(no_res_list_all))\n",
        "no_res_list_f = list(set(no_res_list_f))\n",
        "\n",
        "for i in range(0,len(res_cutoff)):\n",
        "  plot_dict[str(res_cutoff[i])] = master_lst[i] - master_lst2[i]\n",
        "\n",
        "plot_dict['no_cutoff'] = len(all_actin_pdbs) - len(all_actin_filament_pdbs)\n",
        "\n",
        "for i in range(0,len(res_cutoff)):\n",
        "  plot_dict2[str(res_cutoff[i])] = master_lst2[i]\n",
        "\n",
        "plot_dict2['no_cutoff'] = len(all_actin_filament_pdbs)\n",
        "\n",
        "print(\"non-filament actin structures: \", plot_dict)\n",
        "print(\"filament actin structures: \", plot_dict2)\n",
        "\n",
        "x = list(plot_dict.keys())\n",
        "y1 = list(plot_dict.values())\n",
        "y2 = list(plot_dict2.values())\n",
        "\n",
        "fig, ax = plt.subplots()\n",
        "\n",
        "bars2 = ax.bar(x,y2, width = 0.4, label = 'actin filament')\n",
        "ax.bar_label(bars2)\n",
        "bars = ax.bar(x,y1,bottom = y2,color = 'tomato',width= 0.4, label = 'non-filament')\n",
        "ax.bar_label(bars)\n",
        "ax.legend()\n",
        "plt.xlabel('resolution cutoff (in Å)')\n",
        "plt.ylabel('number of PDB ids')\n",
        "plt.title('Number of structures with varying resolution cutoff')\n",
        "plt.show()"
      ],
      "metadata": {
        "colab": {
          "base_uri": "https://localhost:8080/",
          "height": 507
        },
        "id": "CtK7s1LAQL6J",
        "outputId": "940896f3-0d13-4836-de86-10f5bb6745b2"
      },
      "execution_count": null,
      "outputs": [
        {
          "output_type": "stream",
          "name": "stdout",
          "text": [
            "non-filament actin structures:  {'3': 185, '3.5': 227, '4': 243, '4.5': 250, '5': 252, '5.5': 253, '6': 253, 'no_cutoff': 275}\n",
            "filament actin structures:  {'3': 28, '3.5': 64, '4': 107, '4.5': 113, '5': 119, '5.5': 122, '6': 124, 'no_cutoff': 186}\n"
          ]
        },
        {
          "output_type": "display_data",
          "data": {
            "text/plain": [
              "<Figure size 640x480 with 1 Axes>"
            ],
            "image/png": "[encoded data removed]"
          },
          "metadata": {}
        }
      ]
    }
  ]
}